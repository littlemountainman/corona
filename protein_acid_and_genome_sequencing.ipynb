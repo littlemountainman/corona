{
 "cells": [
  {
   "cell_type": "code",
   "execution_count": 44,
   "metadata": {},
   "outputs": [],
   "source": [
    "from data import sars_v1, sars_v2\n",
    "from collections import Counter\n",
    "from data import protein_v1, protein_v2\n",
    "from matplotlib import pyplot as plt\n",
    "%config IPCompleter.greedy=True\n",
    "%matplotlib inline\n"
   ]
  },
  {
   "cell_type": "code",
   "execution_count": 45,
   "metadata": {},
   "outputs": [
    {
     "name": "stdout",
     "output_type": "stream",
     "text": [
      "3832 30404\n"
     ]
    }
   ],
   "source": [
    "# This is genome reading and alignment\n",
    "sars_v1 = ''.join([i for i in sars_v1 if not i.isdigit()])\n",
    "sars_v1 = sars_v1.replace(\" \", \"\")\n",
    "\n",
    "sars_v2 = ''.join([i for i in sars_v2 if not i.isdigit()])\n",
    "sars_v2 = sars_v2.replace(\" \", \"\")\n",
    "\n",
    "print(len(sars_v1), len(sars_v2))"
   ]
  },
  {
   "cell_type": "code",
   "execution_count": 46,
   "metadata": {},
   "outputs": [
    {
     "name": "stdout",
     "output_type": "stream",
     "text": [
      "Counter({'t': 1256, 'a': 1053, 'c': 755, 'g': 704, '\\n': 64})\n",
      "Counter({'t': 9594, 'a': 8954, 'g': 5863, 'c': 5492, '\\n': 500, '\\t': 1})\n"
     ]
    }
   ],
   "source": [
    "print(Counter(sars_v1))\n",
    "print(Counter(sars_v2))"
   ]
  },
  {
   "cell_type": "code",
   "execution_count": 47,
   "metadata": {},
   "outputs": [
    {
     "data": {
      "text/plain": [
       "'\\nfor a in alignments:\\n    print(format_alignment(*a))\\n'"
      ]
     },
     "execution_count": 47,
     "metadata": {},
     "output_type": "execute_result"
    }
   ],
   "source": [
    "from Bio import pairwise2\n",
    "from Bio.pairwise2 import format_alignment\n",
    "\n",
    "alignments = pairwise2.align.globalxx(sars_v1, sars_v2)\n",
    "\"\"\"\n",
    "for a in alignments:\n",
    "    print(format_alignment(*a))\n",
    "\"\"\"\n",
    "# Gives you the number of alignments and the biopython visualization"
   ]
  },
  {
   "cell_type": "code",
   "execution_count": 48,
   "metadata": {},
   "outputs": [],
   "source": [
    "# Starting with the proteins\n",
    "from Bio.SeqUtils.ProtParam import ProteinAnalysis\n",
    "\n",
    "protein_v1 = ''.join([i for i in protein_v1 if not i.isdigit()])\n",
    "protein_v1 = protein_v1.replace(\" \", \"\")\n",
    "protein_v1 = protein_v1.upper()\n",
    "\n",
    "protein_v2 = ''.join([i for i in protein_v2 if not i.isdigit()])\n",
    "protein_v2 = protein_v2.replace(\" \", \"\")\n",
    "protein_v2 = protein_v2.upper()\n",
    "\n",
    "# Analyzing sars v1\n",
    "analyzed_v1 = ProteinAnalysis(protein_v1)\n",
    "analyzed_v1.molecular_weight()\n",
    "\n",
    "amino_acids_v1 =analyzed_v1.count_amino_acids()"
   ]
  },
  {
   "cell_type": "code",
   "execution_count": 49,
   "metadata": {},
   "outputs": [],
   "source": [
    "# Analyzing sars v2\n",
    "analyzed_v2 = ProteinAnalysis(protein_v2)\n",
    "analyzed_v2.molecular_weight()\n",
    "\n",
    "amino_acids_v2 = analyzed_v2.count_amino_acids()"
   ]
  },
  {
   "cell_type": "code",
   "execution_count": 50,
   "metadata": {},
   "outputs": [
    {
     "data": {
      "text/plain": [
       "Text(0.5, 1.0, 'Sars-Cov-1')"
      ]
     },
     "execution_count": 50,
     "metadata": {},
     "output_type": "execute_result"
    },
    {
     "data": {
      "image/png": "[encoded data removed]",
      "text/plain": [
       "<Figure size 432x288 with 1 Axes>"
      ]
     },
     "metadata": {
      "needs_background": "light"
     },
     "output_type": "display_data"
    }
   ],
   "source": [
    "plt.bar(amino_acids_v1.keys(), amino_acids_v1.values())\n",
    "plt.title(\"Sars-Cov-1\")"
   ]
  },
  {
   "cell_type": "code",
   "execution_count": 51,
   "metadata": {},
   "outputs": [
    {
     "data": {
      "text/plain": [
       "Text(0.5, 1.0, 'Sars-Cov-2')"
      ]
     },
     "execution_count": 51,
     "metadata": {},
     "output_type": "execute_result"
    },
    {
     "data": {
      "image/png": "[encoded data removed]",
      "text/plain": [
       "<Figure size 432x288 with 1 Axes>"
      ]
     },
     "metadata": {
      "needs_background": "light"
     },
     "output_type": "display_data"
    }
   ],
   "source": [
    "plt.bar(amino_acids_v2.keys(), amino_acids_v2.values())\n",
    "plt.title(\"Sars-Cov-2\")"
   ]
  },
  {
   "cell_type": "code",
   "execution_count": null,
   "metadata": {},
   "outputs": [],
   "source": []
  },
  {
   "cell_type": "code",
   "execution_count": null,
   "metadata": {},
   "outputs": [],
   "source": []
  },
  {
   "cell_type": "code",
   "execution_count": null,
   "metadata": {},
   "outputs": [],
   "source": []
  },
  {
   "cell_type": "code",
   "execution_count": null,
   "metadata": {},
   "outputs": [],
   "source": []
  }
 ],
 "metadata": {
  "kernelspec": {
   "display_name": "Python 3",
   "language": "python",
   "name": "python3"
  },
  "language_info": {
   "codemirror_mode": {
    "name": "ipython",
    "version": 3
   },
   "file_extension": ".py",
   "mimetype": "text/x-python",
   "name": "python",
   "nbconvert_exporter": "python",
   "pygments_lexer": "ipython3",
   "version": "3.7.3"
  }
 },
 "nbformat": 4,
 "nbformat_minor": 4
}
